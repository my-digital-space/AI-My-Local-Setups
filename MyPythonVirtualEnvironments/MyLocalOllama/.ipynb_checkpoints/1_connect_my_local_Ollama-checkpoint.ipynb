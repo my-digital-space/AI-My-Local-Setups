{
 "cells": [
  {
   "cell_type": "markdown",
   "id": "dbe11774-ec4e-4644-89b9-de28b81408be",
   "metadata": {},
   "source": [
    "# My Local Ollama\n",
    "Steps to connect to my local running Ollama"
   ]
  },
  {
   "cell_type": "code",
   "execution_count": null,
   "id": "32d2b868-44bd-4ce3-9610-bb4f4006985d",
   "metadata": {},
   "outputs": [],
   "source": []
  },
  {
   "cell_type": "code",
   "execution_count": null,
   "id": "6d547836-401b-4453-b21a-345056dff2ac",
   "metadata": {},
   "outputs": [],
   "source": []
  },
  {
   "cell_type": "code",
   "execution_count": null,
   "id": "6536a82d-2adb-4d33-904c-82b0355a996e",
   "metadata": {},
   "outputs": [],
   "source": []
  }
 ],
 "metadata": {
  "kernelspec": {
   "display_name": "Python 3 (ipykernel)",
   "language": "python",
   "name": "python3"
  },
  "language_info": {
   "codemirror_mode": {
    "name": "ipython",
    "version": 3
   },
   "file_extension": ".py",
   "mimetype": "text/x-python",
   "name": "python",
   "nbconvert_exporter": "python",
   "pygments_lexer": "ipython3",
   "version": "3.12.3"
  }
 },
 "nbformat": 4,
 "nbformat_minor": 5
}

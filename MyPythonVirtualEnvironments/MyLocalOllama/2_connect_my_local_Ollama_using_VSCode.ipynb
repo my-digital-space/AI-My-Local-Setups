{
 "cells": [
  {
   "cell_type": "markdown",
   "id": "dbe11774-ec4e-4644-89b9-de28b81408be",
   "metadata": {},
   "source": [
    "# My Local Ollama\n",
    "Steps to connect to my local running Ollama"
   ]
  },
  {
   "cell_type": "code",
   "execution_count": 7,
   "id": "32d2b868-44bd-4ce3-9610-bb4f4006985d",
   "metadata": {},
   "outputs": [
    {
     "name": "stdout",
     "output_type": "stream",
     "text": [
      "Requirement already satisfied: langchain-ollama in d:\\myspace\\github\\ai\\ai-my-local-setups\\mypythonvirtualenvironments\\myenv1\\lib\\site-packages (0.2.2)Note: you may need to restart the kernel to use updated packages.\n",
      "\n",
      "Requirement already satisfied: langchain-core<0.4.0,>=0.3.27 in d:\\myspace\\github\\ai\\ai-my-local-setups\\mypythonvirtualenvironments\\myenv1\\lib\\site-packages (from langchain-ollama) (0.3.30)\n",
      "Requirement already satisfied: ollama<1,>=0.4.4 in d:\\myspace\\github\\ai\\ai-my-local-setups\\mypythonvirtualenvironments\\myenv1\\lib\\site-packages (from langchain-ollama) (0.4.6)\n",
      "Requirement already satisfied: PyYAML>=5.3 in d:\\myspace\\github\\ai\\ai-my-local-setups\\mypythonvirtualenvironments\\myenv1\\lib\\site-packages (from langchain-core<0.4.0,>=0.3.27->langchain-ollama) (6.0.2)\n",
      "Requirement already satisfied: jsonpatch<2.0,>=1.33 in d:\\myspace\\github\\ai\\ai-my-local-setups\\mypythonvirtualenvironments\\myenv1\\lib\\site-packages (from langchain-core<0.4.0,>=0.3.27->langchain-ollama) (1.33)\n",
      "Requirement already satisfied: langsmith<0.3,>=0.1.125 in d:\\myspace\\github\\ai\\ai-my-local-setups\\mypythonvirtualenvironments\\myenv1\\lib\\site-packages (from langchain-core<0.4.0,>=0.3.27->langchain-ollama) (0.2.11)\n",
      "Requirement already satisfied: packaging<25,>=23.2 in d:\\myspace\\github\\ai\\ai-my-local-setups\\mypythonvirtualenvironments\\myenv1\\lib\\site-packages (from langchain-core<0.4.0,>=0.3.27->langchain-ollama) (24.2)\n",
      "Requirement already satisfied: pydantic<3.0.0,>=2.5.2 in d:\\myspace\\github\\ai\\ai-my-local-setups\\mypythonvirtualenvironments\\myenv1\\lib\\site-packages (from langchain-core<0.4.0,>=0.3.27->langchain-ollama) (2.10.5)\n",
      "Requirement already satisfied: tenacity!=8.4.0,<10.0.0,>=8.1.0 in d:\\myspace\\github\\ai\\ai-my-local-setups\\mypythonvirtualenvironments\\myenv1\\lib\\site-packages (from langchain-core<0.4.0,>=0.3.27->langchain-ollama) (9.0.0)\n",
      "Requirement already satisfied: typing-extensions>=4.7 in d:\\myspace\\github\\ai\\ai-my-local-setups\\mypythonvirtualenvironments\\myenv1\\lib\\site-packages (from langchain-core<0.4.0,>=0.3.27->langchain-ollama) (4.12.2)\n",
      "Requirement already satisfied: httpx<0.28.0,>=0.27.0 in d:\\myspace\\github\\ai\\ai-my-local-setups\\mypythonvirtualenvironments\\myenv1\\lib\\site-packages (from ollama<1,>=0.4.4->langchain-ollama) (0.27.2)\n",
      "Requirement already satisfied: anyio in d:\\myspace\\github\\ai\\ai-my-local-setups\\mypythonvirtualenvironments\\myenv1\\lib\\site-packages (from httpx<0.28.0,>=0.27.0->ollama<1,>=0.4.4->langchain-ollama) (4.8.0)\n",
      "Requirement already satisfied: certifi in d:\\myspace\\github\\ai\\ai-my-local-setups\\mypythonvirtualenvironments\\myenv1\\lib\\site-packages (from httpx<0.28.0,>=0.27.0->ollama<1,>=0.4.4->langchain-ollama) (2024.12.14)\n",
      "Requirement already satisfied: httpcore==1.* in d:\\myspace\\github\\ai\\ai-my-local-setups\\mypythonvirtualenvironments\\myenv1\\lib\\site-packages (from httpx<0.28.0,>=0.27.0->ollama<1,>=0.4.4->langchain-ollama) (1.0.7)\n",
      "Requirement already satisfied: idna in d:\\myspace\\github\\ai\\ai-my-local-setups\\mypythonvirtualenvironments\\myenv1\\lib\\site-packages (from httpx<0.28.0,>=0.27.0->ollama<1,>=0.4.4->langchain-ollama) (3.10)\n",
      "Requirement already satisfied: sniffio in d:\\myspace\\github\\ai\\ai-my-local-setups\\mypythonvirtualenvironments\\myenv1\\lib\\site-packages (from httpx<0.28.0,>=0.27.0->ollama<1,>=0.4.4->langchain-ollama) (1.3.1)\n",
      "Requirement already satisfied: h11<0.15,>=0.13 in d:\\myspace\\github\\ai\\ai-my-local-setups\\mypythonvirtualenvironments\\myenv1\\lib\\site-packages (from httpcore==1.*->httpx<0.28.0,>=0.27.0->ollama<1,>=0.4.4->langchain-ollama) (0.14.0)\n",
      "Requirement already satisfied: jsonpointer>=1.9 in d:\\myspace\\github\\ai\\ai-my-local-setups\\mypythonvirtualenvironments\\myenv1\\lib\\site-packages (from jsonpatch<2.0,>=1.33->langchain-core<0.4.0,>=0.3.27->langchain-ollama) (3.0.0)\n",
      "Requirement already satisfied: orjson<4.0.0,>=3.9.14 in d:\\myspace\\github\\ai\\ai-my-local-setups\\mypythonvirtualenvironments\\myenv1\\lib\\site-packages (from langsmith<0.3,>=0.1.125->langchain-core<0.4.0,>=0.3.27->langchain-ollama) (3.10.15)\n",
      "Requirement already satisfied: requests<3,>=2 in d:\\myspace\\github\\ai\\ai-my-local-setups\\mypythonvirtualenvironments\\myenv1\\lib\\site-packages (from langsmith<0.3,>=0.1.125->langchain-core<0.4.0,>=0.3.27->langchain-ollama) (2.32.3)\n",
      "Requirement already satisfied: requests-toolbelt<2.0.0,>=1.0.0 in d:\\myspace\\github\\ai\\ai-my-local-setups\\mypythonvirtualenvironments\\myenv1\\lib\\site-packages (from langsmith<0.3,>=0.1.125->langchain-core<0.4.0,>=0.3.27->langchain-ollama) (1.0.0)\n",
      "Requirement already satisfied: annotated-types>=0.6.0 in d:\\myspace\\github\\ai\\ai-my-local-setups\\mypythonvirtualenvironments\\myenv1\\lib\\site-packages (from pydantic<3.0.0,>=2.5.2->langchain-core<0.4.0,>=0.3.27->langchain-ollama) (0.7.0)\n",
      "Requirement already satisfied: pydantic-core==2.27.2 in d:\\myspace\\github\\ai\\ai-my-local-setups\\mypythonvirtualenvironments\\myenv1\\lib\\site-packages (from pydantic<3.0.0,>=2.5.2->langchain-core<0.4.0,>=0.3.27->langchain-ollama) (2.27.2)\n",
      "Requirement already satisfied: charset-normalizer<4,>=2 in d:\\myspace\\github\\ai\\ai-my-local-setups\\mypythonvirtualenvironments\\myenv1\\lib\\site-packages (from requests<3,>=2->langsmith<0.3,>=0.1.125->langchain-core<0.4.0,>=0.3.27->langchain-ollama) (3.4.1)\n",
      "Requirement already satisfied: urllib3<3,>=1.21.1 in d:\\myspace\\github\\ai\\ai-my-local-setups\\mypythonvirtualenvironments\\myenv1\\lib\\site-packages (from requests<3,>=2->langsmith<0.3,>=0.1.125->langchain-core<0.4.0,>=0.3.27->langchain-ollama) (2.3.0)\n"
     ]
    }
   ],
   "source": [
    "%pip install langchain-ollama"
   ]
  },
  {
   "cell_type": "code",
   "execution_count": 8,
   "id": "a2f1f158-5697-400a-ba96-0a59c561edfb",
   "metadata": {},
   "outputs": [
    {
     "data": {
      "text/plain": [
       "\"LangChain is an open-source framework for building data integration pipelines, particularly in the context of blockchain and Web3 development.\\n\\nHere's a step-by-step breakdown:\\n\\n1. **Background**: The rise of blockchain and decentralized applications (dApps) has created a need for more efficient ways to integrate data from various sources.\\n2. **Problem statement**: Traditional approaches to integrating data often involve custom coding, which can lead to complexity, duplication of effort, and maintenance challenges.\\n3. **Solution**: LangChain was designed to address this issue by providing a standardized, modular framework for building data integration pipelines.\\n4. **Key components**:\\n\\t* **LangChain Network**: A decentralized network that enables data sharing and discovery between different blockchain networks.\\n\\t* **LangChain API Gateway**: A scalable, RESTful API that allows developers to interact with the LangChain network and other connected services.\\n\\t* **LangChain Data Storage**: A modular storage system for storing and retrieving data in a standardized way.\\n5. **Benefits**:\\n\\t* **Decentralized data integration**: Enables seamless data exchange between different blockchain networks and external services.\\n\\t* **Modular architecture**: Allows developers to build custom data pipelines with ease, using pre-defined components.\\n\\t* **Scalability**: Supports large-scale data integration needs with high performance and reliability.\\n\\nBy providing a standardized framework for building data integration pipelines, LangChain aims to simplify the process of connecting blockchain networks and external services, enabling more efficient and effective data exchange.\""
      ]
     },
     "execution_count": 8,
     "metadata": {},
     "output_type": "execute_result"
    }
   ],
   "source": [
    "# Reference: https://python.langchain.com/docs/integrations/llms/ollama/\n",
    "\n",
    "from langchain_core.prompts import ChatPromptTemplate\n",
    "from langchain_ollama.llms import OllamaLLM\n",
    "\n",
    "template = \"\"\"Question: {question}\n",
    "\n",
    "Answer: Let's think step by step.\"\"\"\n",
    "\n",
    "prompt = ChatPromptTemplate.from_template(template)\n",
    "\n",
    "model = OllamaLLM(model=\"llama3.2\")\n",
    "\n",
    "chain = prompt | model\n",
    "\n",
    "chain.invoke({\"question\": \"What is LangChain?\"})"
   ]
  },
  {
   "cell_type": "code",
   "execution_count": null,
   "id": "6d547836-401b-4453-b21a-345056dff2ac",
   "metadata": {},
   "outputs": [],
   "source": []
  },
  {
   "cell_type": "code",
   "execution_count": null,
   "id": "6536a82d-2adb-4d33-904c-82b0355a996e",
   "metadata": {},
   "outputs": [],
   "source": []
  },
  {
   "cell_type": "code",
   "execution_count": null,
   "id": "ed817a9a-69b8-4b1b-9444-40fca5a3a8d7",
   "metadata": {},
   "outputs": [],
   "source": []
  }
 ],
 "metadata": {
  "kernelspec": {
   "display_name": "myenv1",
   "language": "python",
   "name": "python3"
  },
  "language_info": {
   "codemirror_mode": {
    "name": "ipython",
    "version": 3
   },
   "file_extension": ".py",
   "mimetype": "text/x-python",
   "name": "python",
   "nbconvert_exporter": "python",
   "pygments_lexer": "ipython3",
   "version": "3.12.3"
  }
 },
 "nbformat": 4,
 "nbformat_minor": 5
}
